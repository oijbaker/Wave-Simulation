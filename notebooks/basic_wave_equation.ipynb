{
 "cells": [
  {
   "cell_type": "markdown",
   "metadata": {},
   "source": [
    "# 2D Wave Propogation"
   ]
  },
  {
   "cell_type": "markdown",
   "metadata": {},
   "source": [
    "We will numerically solve the wave equation in a 2D box.\n",
    "\n",
    "The wave equation is given by:\n",
    "$$\n",
    "\\frac{\\partial^2 u}{\\partial t^2} = c^2 \\nabla^2 u\n",
    "$$\n",
    "where $\\nabla^2$ is the Laplacian operator, $c$ is the wave speed, and $u(x,y,t)$ is the wave function."
   ]
  },
  {
   "cell_type": "markdown",
   "metadata": {
    "vscode": {
     "languageId": "plaintext"
    }
   },
   "source": [
    "We will implement this using the finite differences method"
   ]
  },
  {
   "cell_type": "code",
   "execution_count": 140,
   "metadata": {},
   "outputs": [],
   "source": [
    "import numpy as np\n",
    "import matplotlib.pyplot as plt\n",
    "import pandas as pd"
   ]
  },
  {
   "cell_type": "markdown",
   "metadata": {},
   "source": [
    "We need to discretise the equation. \n",
    "\n",
    "We will need a discrete approximation to the second derivative. This is naturally given by:\n",
    "$$\n",
    "    u_{tt_{ij}}^{(T)} = \\frac{\\frac{u_{ij}^{(T+1)} - u_{ij}^{(T)}}{t} - \\frac{u_{ij}^{(T)} - u_{ij}^{(T-1)}}{t}}{t}\n",
    "$$\n",
    "$$\n",
    "    = \\frac{u_{ij}^{(T+1)} - 2u_{ij}^{(T)} + u_{ij}^{(T-1)}}{t^2}\n",
    "$$\n",
    "\n",
    "We will initially use a 3x3 matrix to discretise the Laplacian operator.\n",
    "\n",
    "This matrix is given by:\n",
    "\n",
    "$$\n",
    "U_3 := \\begin{bmatrix}\n",
    "0 & 1 & 0 \\\\\n",
    "1 & -4 & 1 \\\\\n",
    "0 & 1 & 0\n",
    "\\end{bmatrix}\n",
    "$$\n",
    "\n",
    "i.e. the wave at a point moves to the four nearest neighbours. Therefore, we get\n",
    "\n",
    "$$\n",
    "    \\nabla^2 u_{ij}^{(T)} \\approx \\frac{u_{i+1,j}^{(T)} + u_{i-1,j}^{(T)} + u_{i,j+1}^{(T)} + u_{i,j-1}^{(T)} - 4u_{ij}^{(T)}}{h^2}\n",
    "$$\n",
    "\n",
    "So we write the discretised wave equation as:\n",
    "$$\n",
    "    \\frac{u_{ij}^{(T+1)} - 2u_{ij}^{(T)} + u_{ij}^{(T-1)}}{t^2} = c^2 \\frac{u_{i+1,j}^{(T)} + u_{i-1,j}^{(T)} + u_{i,j+1}^{(T)} + u_{i,j-1}^{(T)} - 4u_{ij}^{(T)}}{h^2}\n",
    "$$\n",
    "Rearranging gives us:\n",
    "$$\n",
    "    u_{ij}^{(T+1)} = 2u_{ij}^{(T)} - u_{ij}^{(T-1)} + \\frac{c^2 t^2}{h^2} \\left( u_{i+1,j}^{(T)} + u_{i-1,j}^{(T)} + u_{i,j+1}^{(T)} + u_{i,j-1}^{(T)} - 4u_{ij}^{(T)} \\right)\n",
    "$$"
   ]
  },
  {
   "cell_type": "markdown",
   "metadata": {},
   "source": [
    "We will test the simulation by placing a single pulse in the middle of the box and letting it propagate outwards."
   ]
  },
  {
   "cell_type": "code",
   "execution_count": 383,
   "metadata": {},
   "outputs": [],
   "source": [
    "# initialise\n",
    "\n",
    "x_dim = 100\n",
    "y_dim = 100\n",
    "t_dim = 1000\n",
    "h = 1\n",
    "c = 0.1 "
   ]
  },
  {
   "cell_type": "markdown",
   "metadata": {},
   "source": [
    "### Functions to initialise the state"
   ]
  },
  {
   "cell_type": "code",
   "execution_count": 384,
   "metadata": {},
   "outputs": [],
   "source": [
    "def init_single_drop():\n",
    "    \"\"\"\n",
    "    Initialise a single drop in the middle of the grid\n",
    "    \"\"\"\n",
    "    x0 = int(x_dim/2)\n",
    "    y0 = int(y_dim/2)\n",
    "    space = np.zeros((x_dim,y_dim))\n",
    "    space[x0,y0] = 1.0\n",
    "    return space"
   ]
  },
  {
   "cell_type": "code",
   "execution_count": 385,
   "metadata": {},
   "outputs": [],
   "source": [
    "def double_random_drop():\n",
    "    \"\"\"\n",
    "    Initialise two drops at random locations in the grid\n",
    "    \"\"\"\n",
    "    space = np.zeros((x_dim,y_dim))\n",
    "    x0 = np.random.randint(0,x_dim-1)\n",
    "    y0 = np.random.randint(0,y_dim-1)\n",
    "    space[x0,y0] = 1.0\n",
    "    x1 = np.random.randint(0,x_dim-1)\n",
    "    y1 = np.random.randint(0,y_dim-1)\n",
    "    space[x1,y1] = 1.0\n",
    "    return space"
   ]
  },
  {
   "cell_type": "code",
   "execution_count": 386,
   "metadata": {},
   "outputs": [],
   "source": [
    "space_single_drop = init_single_drop()"
   ]
  },
  {
   "cell_type": "markdown",
   "metadata": {},
   "source": [
    "### Functions to run the simulation"
   ]
  },
  {
   "cell_type": "code",
   "execution_count": 387,
   "metadata": {},
   "outputs": [],
   "source": [
    "def update(space, prev_space, absorb=False):\n",
    "    \"\"\"\n",
    "    Update the space using the finite difference method\n",
    "    \"\"\"\n",
    "    # create a new space to store the updated values\n",
    "    new_space = np.zeros((x_dim,y_dim))\n",
    "    \n",
    "    # vectorised version of the update\n",
    "    new_space = 2*space - prev_space + (c**2)*(np.roll(space, 1, axis=0) + np.roll(space, -1, axis=0) \n",
    "                                               + np.roll(space, 1, axis=1) + np.roll(space, -1, axis=1) \n",
    "                                               - 4*space)\n",
    "    \n",
    "    if absorb:\n",
    "        # apply the absorbing boundary condition\n",
    "        new_space[0,:] = space[1,:] + (c-1)/(c+1)*(new_space[1,:] - space[0,:])\n",
    "        new_space[-1,:] = space[-2,:] + (c-1)/(c+1)*(new_space[-2,:] - space[-1,:])\n",
    "        new_space[:,0] = space[:,1] + (c-1)/(c+1)*(new_space[:,1] - space[:,0])\n",
    "        new_space[:,-1] = space[:,-2] + (c-1)/(c+1)*(new_space[:,-2] - space[:,-1])\n",
    "        \n",
    "    else:\n",
    "        # Dirichlet boundary conditions\n",
    "        new_space[0,:] = 0\n",
    "        new_space[-1,:] = 0\n",
    "        new_space[:,0] = 0\n",
    "        new_space[:,-1] = 0\n",
    "    \n",
    "    return new_space"
   ]
  },
  {
   "cell_type": "code",
   "execution_count": 388,
   "metadata": {},
   "outputs": [],
   "source": [
    "def run(initial_space, steps, absorb=False):\n",
    "    \"\"\"\n",
    "    Run the simulation for a given number of steps\n",
    "    \"\"\"\n",
    "    # create a list to store the results\n",
    "    results = []\n",
    "    \n",
    "    # set the initial space and previous space\n",
    "    prev_space = np.zeros((x_dim,y_dim))\n",
    "    space = initial_space\n",
    "    \n",
    "    # loop over the steps and update the space\n",
    "    for step in range(steps):\n",
    "        results.append(space.copy())\n",
    "        new_space = update(space, prev_space, absorb=absorb)\n",
    "        prev_space = space.copy()\n",
    "        space = new_space.copy()\n",
    "    \n",
    "    return np.array(results)"
   ]
  },
  {
   "cell_type": "code",
   "execution_count": 374,
   "metadata": {},
   "outputs": [],
   "source": [
    "def run_rain(initial_space, steps, absorb=False):\n",
    "    \"\"\"\n",
    "    Run the simulation for a given number of steps with random drops\n",
    "    \"\"\"\n",
    "    # create a list to store the results\n",
    "    results = []\n",
    "    \n",
    "    # set the initial space and previous space\n",
    "    prev_space = np.zeros((x_dim,y_dim))\n",
    "    space = initial_space\n",
    "    \n",
    "    # loop over the steps and update the space\n",
    "    for step in range(steps):\n",
    "        results.append(space.copy())\n",
    "        if step % 50 == 0:\n",
    "            x0 = np.random.randint(0,x_dim-1)\n",
    "            y0 = np.random.randint(0,y_dim-1)\n",
    "            space[x0,y0] = 1.0\n",
    "        new_space = update(space, prev_space, absorb=absorb)\n",
    "        prev_space = space.copy()\n",
    "        space = new_space.copy()\n",
    "    \n",
    "    return np.array(results)"
   ]
  },
  {
   "cell_type": "code",
   "execution_count": 389,
   "metadata": {},
   "outputs": [],
   "source": [
    "waves = run(double_random_drop(), t_dim, absorb=True)"
   ]
  },
  {
   "cell_type": "code",
   "execution_count": 378,
   "metadata": {},
   "outputs": [],
   "source": [
    "waves = run_rain(double_random_drop(), t_dim, absorb=False)"
   ]
  },
  {
   "cell_type": "markdown",
   "metadata": {},
   "source": [
    "### Check Initial State"
   ]
  },
  {
   "cell_type": "code",
   "execution_count": 379,
   "metadata": {},
   "outputs": [
    {
     "data": {
      "text/plain": [
       "<matplotlib.image.AxesImage at 0x1b815d82510>"
      ]
     },
     "execution_count": 379,
     "metadata": {},
     "output_type": "execute_result"
    },
    {
     "data": {
      "image/png": "[encoded data removed]",
      "text/plain": [
       "<Figure size 640x480 with 1 Axes>"
      ]
     },
     "metadata": {},
     "output_type": "display_data"
    }
   ],
   "source": [
    "plt.imshow(waves[1], cmap='hot', interpolation='nearest')"
   ]
  },
  {
   "cell_type": "markdown",
   "metadata": {},
   "source": [
    "### Check State Midway"
   ]
  },
  {
   "cell_type": "code",
   "execution_count": 380,
   "metadata": {},
   "outputs": [
    {
     "data": {
      "text/plain": [
       "<matplotlib.colorbar.Colorbar at 0x1b8168b5c40>"
      ]
     },
     "execution_count": 380,
     "metadata": {},
     "output_type": "execute_result"
    },
    {
     "data": {
      "image/png": "[encoded data removed]",
      "text/plain": [
       "<Figure size 640x480 with 2 Axes>"
      ]
     },
     "metadata": {},
     "output_type": "display_data"
    }
   ],
   "source": [
    "plt.imshow(waves[250], cmap='hot', interpolation='nearest')\n",
    "plt.colorbar()"
   ]
  },
  {
   "cell_type": "markdown",
   "metadata": {},
   "source": [
    "### Saving the state to a file"
   ]
  },
  {
   "cell_type": "code",
   "execution_count": 381,
   "metadata": {},
   "outputs": [],
   "source": [
    "# write the simulation to a file\n",
    "waves_df = pd.DataFrame(waves.reshape(t_dim, -1))\n",
    "waves_df.to_csv('../simulations/output/waves.csv', index=False, header=False)"
   ]
  }
 ],
 "metadata": {
  "kernelspec": {
   "display_name": "Python 3",
   "language": "python",
   "name": "python3"
  },
  "language_info": {
   "codemirror_mode": {
    "name": "ipython",
    "version": 3
   },
   "file_extension": ".py",
   "mimetype": "text/x-python",
   "name": "python",
   "nbconvert_exporter": "python",
   "pygments_lexer": "ipython3",
   "version": "3.12.10"
  }
 },
 "nbformat": 4,
 "nbformat_minor": 2
}
